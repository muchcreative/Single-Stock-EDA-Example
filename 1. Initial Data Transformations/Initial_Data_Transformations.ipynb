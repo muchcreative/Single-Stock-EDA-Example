{
  "nbformat": 4,
  "nbformat_minor": 0,
  "metadata": {
    "colab": {
      "name": "Initial Data Transformations.ipynb",
      "provenance": [],
      "collapsed_sections": []
    },
    "kernelspec": {
      "name": "python3",
      "display_name": "Python 3"
    },
    "language_info": {
      "name": "python"
    }
  },
  "cells": [
    {
      "cell_type": "code",
      "execution_count": 1,
      "metadata": {
        "colab": {
          "base_uri": "https://localhost:8080/"
        },
        "id": "N7WHXm7Tbq6b",
        "outputId": "ff354353-a2ae-4ed1-fcd6-83025f88eb95"
      },
      "outputs": [
        {
          "output_type": "stream",
          "name": "stdout",
          "text": [
            "Mounted at /content/drive\n"
          ]
        },
        {
          "output_type": "stream",
          "name": "stderr",
          "text": [
            "/usr/local/lib/python3.7/dist-packages/statsmodels/tools/_testing.py:19: FutureWarning: pandas.util.testing is deprecated. Use the functions in the public API at pandas.testing instead.\n",
            "  import pandas.util.testing as tm\n"
          ]
        },
        {
          "output_type": "stream",
          "name": "stdout",
          "text": [
            "Imported Libraries\n"
          ]
        }
      ],
      "source": [
        "# Let's start by importing the libraries we will need below.\n",
        "\n",
        "from google.colab import drive\n",
        "drive.mount('/content/drive')\n",
        "\n",
        "import math\n",
        "import numpy as np\n",
        "import pandas as pd\n",
        "from pandas.plotting import autocorrelation_plot\n",
        "\n",
        "import seaborn as sns\n",
        "import matplotlib.pyplot as plt\n",
        "import statsmodels.api as sm\n",
        "from statsmodels.graphics.tsaplots import plot_pacf\n",
        "\n",
        "import sys\n",
        "sys.path.append('/content/drive/MyDrive/Colab Notebooks/April')  # Here is the location of my stock historical database\n",
        "from pipelines import loaders, filters, interpolators # Import my own data pipelines.\n",
        "\n",
        "print(\"Imported Libraries\")"
      ]
    },
    {
      "cell_type": "code",
      "source": [
        "# Let's choose from a number of stocks to get a good feel for our EDA\n",
        "# For argument's sake let's select two of the worst performing stocks $WYNN and $ETSY, and then one of the highest performing stocks 'AAPL'\n",
        "# However, depending on your strategy you might weight trades more to positive momentum, market cap, or trade volume.\n",
        "\n",
        "tickers = ['AAPL', 'AMD', 'WYNN', 'ETSY']\n",
        "yf_filepath = '/content/drive/MyDrive/Colab Notebooks/April/data/yf'\n",
        "columns = ['Date', 'Open', 'High', 'Low', 'Close', 'Volume']  # We will request OHLCV data from our database.\n",
        "ticker_historical = loaders.load_historicals(tickers, columns, yf_filepath)\n",
        "ticker_historical = ticker_historical['AAPL']"
      ],
      "metadata": {
        "id": "b1iRPJ2LcXA-"
      },
      "execution_count": 2,
      "outputs": []
    },
    {
      "cell_type": "code",
      "source": [
        "# Since the data is varying\n",
        "# Standardization would be casting the data on log-returns\n",
        "# Vs Normalization would be something akin to moving averages\n",
        "\n",
        "# Standardize our dataset so the values that we plug into our model are constrained within a range and repeatable, for any point in time\n",
        "# I go over three common ways to introduce stationarity to the model below\n",
        "\n",
        "def difference_by_previous_data(ticker_historical, periods=1):\n",
        "  '''Difference'''\n",
        "  ticker_diff = ticker_historical.diff(periods=periods).dropna()\n",
        "  return ticker_diff\n",
        "\n",
        "def difference_by_return_percentage(ticker_historical):\n",
        "  '''A'''\n",
        "  ticker_diff = (((ticker_historical.shift(-1)-ticker_historical)/ticker_historical)*100) #Double check can we shift(1) flip here as with diff log returns\n",
        "  shifted_index = ticker_diff.index[1:] #Shift index for log returns to be on the same day\n",
        "  ticker_diff = ticker_diff.dropna()\n",
        "  ticker_diff.index = shifted_index\n",
        "  return ticker_diff\n",
        " \n",
        "def difference_by_log_returns(ticker_historical, base=10):\n",
        "  '''A'''\n",
        "  ticker_diff = (ticker_historical/ticker_historical.shift(1))\n",
        "  if base == 10:\n",
        "    ticker_diff = np.log10(ticker_diff)*100\n",
        "  else:\n",
        "    ticker_diff = np.log(ticker_diff)\n",
        "  ticker_diff = ticker_diff.dropna()\n",
        "  return ticker_diff\n",
        "\n",
        "def plot_stationary_graphs(ticker_diff):\n",
        "  '''A'''\n",
        "  %matplotlib inline\n",
        "  figure_dims = (20, 10)\n",
        "  fig, ax = plt.subplots(2,2, figsize=figure_dims)\n",
        "  sns.set_style('whitegrid')\n",
        "  ax[0][0] = autocorrelation_plot(ticker_diff, ax=ax[0][0])\n",
        "  ax[0][1] = plot_pacf(ticker_diff, ax=ax[0][1])\n",
        "  ax[1][0] = sns.histplot(data=ticker_diff, ax=ax[1][0])\n",
        "  sm.qqplot(ticker_diff, line='45', ax=ax[1][1])\n",
        "  print(ticker_diff.describe())\n",
        "  print('Skewness is {}'.format(ticker_diff.skew()))\n",
        "  print('Kurtosis is {}'.format(ticker_diff.kurtosis()))\n",
        "  plt.show()"
      ],
      "metadata": {
        "id": "hPH_WOz0q73N"
      },
      "execution_count": 3,
      "outputs": []
    },
    {
      "cell_type": "markdown",
      "source": [
        "### Standardization"
      ],
      "metadata": {
        "id": "1BNqpnnfdlYe"
      }
    },
    {
      "cell_type": "code",
      "source": [
        "print(\"Log Differences\\n\")\n",
        "# At some point we will have to look into natural log base vs log10 base\n",
        "ticker_log_diff = difference_by_log_returns(ticker_historical, base=10).drop(columns='Volume') \n",
        "plot_stationary_graphs(ticker_log_diff['Close'])"
      ],
      "metadata": {
        "id": "ewWvE98kdngJ"
      },
      "execution_count": null,
      "outputs": []
    },
    {
      "cell_type": "code",
      "source": [
        ""
      ],
      "metadata": {
        "id": "EvMXV2h2zLzR"
      },
      "execution_count": null,
      "outputs": []
    },
    {
      "cell_type": "markdown",
      "source": [
        "### Normalization"
      ],
      "metadata": {
        "id": "GCh-hSmndhID"
      }
    }
  ]
}